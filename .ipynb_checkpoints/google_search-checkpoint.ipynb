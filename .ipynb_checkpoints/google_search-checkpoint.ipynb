{
 "cells": [
  {
   "cell_type": "markdown",
   "metadata": {},
   "source": [
    "# 구글 크롤러\n",
    "자동으로 크롬 브라우저를 열어서 검색하고 닫는 코드. 활용을 통해 기타 제어(열기, 찾기, 입력, 닫기 등등)도 가능하다.\n",
    "\n",
    "[Python, Selenium 사용법](https://wordbe.tistory.com/entry/%ED%81%AC%EB%A1%A4%EB%A7%81-Python-Selenium-%EC%82%AC%EC%9A%A9%EB%B2%95) \n",
    "이 블로그 보고 따라했다.\n",
    "작동이 잘 된다. 너무 신기하다."
   ]
  },
  {
   "cell_type": "code",
   "execution_count": null,
   "metadata": {},
   "outputs": [],
   "source": [
    "from selenium import webdriver\n",
    "from selenium.webdriver.common.keys import Keys\n",
    "from bs4 import BeautifulSoup\n",
    "import time\n",
    "\n",
    "# 크롬 드라이버 연결\n",
    "chromedriver = '/Users/euzl/GitHub/Is-Son-World-Class/document/store/chromedriver'\n",
    "driver = webdriver.Chrome(chromedriver)\n",
    "\n",
    "# 키워드 설정\n",
    "search_keyword = '손흥민'\n",
    "\n",
    "# 사이트 접속 (구글)\n",
    "driver.get(\"http://www.google.com\")\n",
    "\n",
    "# 웹 브라우저 켜지는 것 대기\n",
    "time.sleep(2)\n",
    "\n",
    "# element name == q 인 곳 찾기 (구글 검색창의 html 태그이름이 'q')\n",
    "elem = driver.find_element_by_name('q')\n",
    "\n",
    "# 검색 실행\n",
    "elem.send_keys(search_keyword)\n",
    "elem.submit()\n",
    "\n",
    "# n초간 동작 후 종료\n",
    "time.sleep(5)\n",
    "driver.quit()"
   ]
  },
  {
   "cell_type": "markdown",
   "metadata": {},
   "source": [
    "### 개발자모드에서 html 태그이름 확인! `opt+cmd+i`\n",
    "\n",
    "![사진](https://user-images.githubusercontent.com/37680108/101042212-430f4800-35c0-11eb-8843-bddc2db5d733.png)"
   ]
  }
 ],
 "metadata": {
  "kernelspec": {
   "display_name": "Python 3",
   "language": "python",
   "name": "python3"
  },
  "language_info": {
   "codemirror_mode": {
    "name": "ipython",
    "version": 3
   },
   "file_extension": ".py",
   "mimetype": "text/x-python",
   "name": "python",
   "nbconvert_exporter": "python",
   "pygments_lexer": "ipython3",
   "version": "3.8.3"
  }
 },
 "nbformat": 4,
 "nbformat_minor": 4
}
